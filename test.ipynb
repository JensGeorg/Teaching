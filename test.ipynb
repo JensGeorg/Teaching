{
 "cells": [
  {
   "cell_type": "markdown",
   "metadata": {},
   "source": [
    "# Test"
   ]
  },
  {
   "cell_type": "code",
   "execution_count": 3,
   "metadata": {},
   "outputs": [
    {
     "name": "stdout",
     "output_type": "stream",
     "text": [
      "  [1]  32  85  77  16  25  30  67  96  93  84  90  15   1  45  75  48  42   5\n",
      " [19]  17  21  95  24  38  36  19  14  20  41  40  71  88   9  55  94   6  53\n",
      " [37]  57  70  86  51  78  99  58  52   4  82  31   7   3  12  27  81  83  34\n",
      " [55]  74  98  23  68  28  11  39  64  10  65  91  69  59  62  92  63  43  89\n",
      " [73]  54  35  56  66  18  29  61  79  26  72  97  47  50  33  80  76  87 100\n",
      " [91]  46   2  44  49  13  73   8  37  60  22\n"
     ]
    }
   ],
   "source": [
    "a<-sample.int(100)\n",
    "print(a)"
   ]
  },
  {
   "cell_type": "code",
   "execution_count": 4,
   "metadata": {},
   "outputs": [],
   "source": [
    "max<-function(input){\n",
    "    tmp<-input[1]\n",
    "    count<-1\n",
    "    for(i in 2:length(input)){\n",
    "        if(input[i]>tmp){\n",
    "            tmp<-input[i]\n",
    "            count<-1\n",
    "        }    \n",
    "        if(input[i]==tmp){\n",
    "            count<-count+1\n",
    "        }\n",
    "    }\n",
    "    return(c(tmp,count))\n",
    "}"
   ]
  },
  {
   "cell_type": "code",
   "execution_count": 5,
   "metadata": {},
   "outputs": [
    {
     "data": {
      "text/html": [
       "<style>\n",
       ".list-inline {list-style: none; margin:0; padding: 0}\n",
       ".list-inline>li {display: inline-block}\n",
       ".list-inline>li:not(:last-child)::after {content: \"\\00b7\"; padding: 0 .5ex}\n",
       "</style>\n",
       "<ol class=list-inline><li>100</li><li>2</li></ol>\n"
      ],
      "text/latex": [
       "\\begin{enumerate*}\n",
       "\\item 100\n",
       "\\item 2\n",
       "\\end{enumerate*}\n"
      ],
      "text/markdown": [
       "1. 100\n",
       "2. 2\n",
       "\n",
       "\n"
      ],
      "text/plain": [
       "[1] 100   2"
      ]
     },
     "metadata": {},
     "output_type": "display_data"
    }
   ],
   "source": [
    "max(a)"
   ]
  },
  {
   "cell_type": "code",
   "execution_count": 6,
   "metadata": {},
   "outputs": [
    {
     "data": {
      "text/html": [
       "32"
      ],
      "text/latex": [
       "32"
      ],
      "text/markdown": [
       "32"
      ],
      "text/plain": [
       "[1] 32"
      ]
     },
     "metadata": {},
     "output_type": "display_data"
    }
   ],
   "source": [
    "a[1]"
   ]
  },
  {
   "cell_type": "code",
   "execution_count": null,
   "metadata": {},
   "outputs": [],
   "source": []
  }
 ],
 "metadata": {
  "kernelspec": {
   "display_name": "R",
   "language": "R",
   "name": "ir"
  },
  "language_info": {
   "codemirror_mode": "r",
   "file_extension": ".r",
   "mimetype": "text/x-r-source",
   "name": "R",
   "pygments_lexer": "r",
   "version": "3.6.0"
  }
 },
 "nbformat": 4,
 "nbformat_minor": 4
}
